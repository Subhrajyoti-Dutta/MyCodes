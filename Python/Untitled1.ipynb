{
 "cells": [
  {
   "cell_type": "code",
   "execution_count": 1,
   "id": "14458cb0-ebb0-490d-8a43-82f810d1aee5",
   "metadata": {},
   "outputs": [
    {
     "data": {
      "text/plain": [
       "2×4 Matrix{Int64}:\n",
       " 1  2  -1   0\n",
       " 2  1   0  -1"
      ]
     },
     "execution_count": 1,
     "metadata": {},
     "output_type": "execute_result"
    }
   ],
   "source": [
    "arr = [1 2 -1 0;\n",
    "    2 1 0 -1]"
   ]
  },
  {
   "cell_type": "code",
   "execution_count": 5,
   "id": "31fe5570-54a5-4c7e-b2b2-a4ad6a13b5c7",
   "metadata": {},
   "outputs": [
    {
     "ename": "LoadError",
     "evalue": "LinearAlgebra.SingularException(3)",
     "output_type": "error",
     "traceback": [
      "LinearAlgebra.SingularException(3)",
      "",
      "Stacktrace:",
      " [1] checknonsingular",
      "   @ C:\\Users\\dutta\\AppData\\Local\\Programs\\Julia-1.9.1\\share\\julia\\stdlib\\v1.9\\LinearAlgebra\\src\\factorization.jl:19 [inlined]",
      " [2] checknonsingular",
      "   @ C:\\Users\\dutta\\AppData\\Local\\Programs\\Julia-1.9.1\\share\\julia\\stdlib\\v1.9\\LinearAlgebra\\src\\factorization.jl:22 [inlined]",
      " [3] #lu!#170",
      "   @ C:\\Users\\dutta\\AppData\\Local\\Programs\\Julia-1.9.1\\share\\julia\\stdlib\\v1.9\\LinearAlgebra\\src\\lu.jl:82 [inlined]",
      " [4] lu!",
      "   @ C:\\Users\\dutta\\AppData\\Local\\Programs\\Julia-1.9.1\\share\\julia\\stdlib\\v1.9\\LinearAlgebra\\src\\lu.jl:80 [inlined]",
      " [5] #lu#176",
      "   @ C:\\Users\\dutta\\AppData\\Local\\Programs\\Julia-1.9.1\\share\\julia\\stdlib\\v1.9\\LinearAlgebra\\src\\lu.jl:299 [inlined]",
      " [6] lu (repeats 2 times)",
      "   @ C:\\Users\\dutta\\AppData\\Local\\Programs\\Julia-1.9.1\\share\\julia\\stdlib\\v1.9\\LinearAlgebra\\src\\lu.jl:298 [inlined]",
      " [7] inv(A::Matrix{Int64})",
      "   @ LinearAlgebra C:\\Users\\dutta\\AppData\\Local\\Programs\\Julia-1.9.1\\share\\julia\\stdlib\\v1.9\\LinearAlgebra\\src\\dense.jl:917",
      " [8] literal_pow(#unused#::typeof(^), A::Matrix{Int64}, #unused#::Val{-1})",
      "   @ LinearAlgebra C:\\Users\\dutta\\AppData\\Local\\Programs\\Julia-1.9.1\\share\\julia\\stdlib\\v1.9\\LinearAlgebra\\src\\generic.jl:1068",
      " [9] top-level scope",
      "   @ In[5]:1"
     ]
    }
   ],
   "source": [
    "(transpose(arr) * arr) ^ -1"
   ]
  },
  {
   "cell_type": "code",
   "execution_count": null,
   "id": "9ffd7510-c494-4848-a875-d5ebf7f91576",
   "metadata": {},
   "outputs": [],
   "source": []
  }
 ],
 "metadata": {
  "kernelspec": {
   "display_name": "Julia 1.9.1",
   "language": "julia",
   "name": "julia-1.9"
  },
  "language_info": {
   "file_extension": ".jl",
   "mimetype": "application/julia",
   "name": "julia",
   "version": "1.9.1"
  }
 },
 "nbformat": 4,
 "nbformat_minor": 5
}
