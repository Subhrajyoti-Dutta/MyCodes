{
 "cells": [
  {
   "cell_type": "code",
   "execution_count": 22,
   "id": "cf189ae9-e36a-4c22-be04-4e98fe081a62",
   "metadata": {},
   "outputs": [],
   "source": [
    "names = list(map(lambda x : x.lower(), ['Abhirup', 'Aditya', 'Adrija', 'Aniruddhan', 'Debepsita', 'Harsh', 'Kaulik', 'Mainak', 'Pranav', 'Ramit', 'Rupayan', 'Saheli', 'Sampurna', 'Samya', 'Sandeepan', 'Saransh', 'Shantanu', 'Shinde', 'Shrayan', 'Snehashis', 'Sourav', 'Subhasis', 'Sweata', 'Tiyasa', 'Utsyo', 'Uttaran', 'Yash']))"
   ]
  },
  {
   "cell_type": "code",
   "execution_count": 14,
   "id": "758bc6dc-0114-40da-98b4-6dc218710ae3",
   "metadata": {},
   "outputs": [],
   "source": [
    "spe = \"apadmuhud\"\n",
    "spe2 = \"adhatdichpi\""
   ]
  },
  {
   "cell_type": "code",
   "execution_count": 27,
   "id": "d83d2ba6-f44b-4639-92f8-851fb9a4bab5",
   "metadata": {},
   "outputs": [
    {
     "name": "stdout",
     "output_type": "stream",
     "text": [
      "Yash Gupta\n"
     ]
    }
   ],
   "source": [
    "for i in names2:\n",
    "    if len(i) == len(spe)+1:\n",
    "        print(i)"
   ]
  },
  {
   "cell_type": "code",
   "execution_count": 28,
   "id": "fd9488f1-b3d4-4979-9af1-0e3427809785",
   "metadata": {},
   "outputs": [
    {
     "name": "stdout",
     "output_type": "stream",
     "text": [
      "Mainak Manna\n",
      "Saheli Datta\n",
      "Snehashis De\n",
      "Sourav Ghosh\n",
      "Subhasis Sur\n",
      "Tiyasa Dutta\n"
     ]
    }
   ],
   "source": [
    "for i in names2:\n",
    "    if len(i) == len(spe2)+1:\n",
    "        print(i)"
   ]
  },
  {
   "cell_type": "code",
   "execution_count": 21,
   "id": "aa3dfbf9-ebdf-43a1-9c36-174f7a92d850",
   "metadata": {},
   "outputs": [],
   "source": [
    "names2 = \"\"\"Abhirup Sengupta\n",
    "Aditya Negi\n",
    "Adrija Saha\n",
    "Aniruddhan Ganesaraman\n",
    "Debepsita Mukherjee\n",
    "Harsh Gupta\n",
    "Kaulik Poddar\n",
    "Mainak Manna\n",
    "Pranav Krishna\n",
    "Ramit Nandi\n",
    "Rupayan Chattopadhyay\n",
    "Saheli Datta\n",
    "Sampurna Mondal\n",
    "Samya Praharaj\n",
    "Sandeepan Sarkar\n",
    "Saransh Gupta\n",
    "Shantanu Nayek\n",
    "Shinde Rohan Pramod\n",
    "Shrayan Roy\n",
    "Snehashis De\n",
    "Sourav Ghosh\n",
    "Subhasis Sur\n",
    "Sweata Majumder\n",
    "Tiyasa Dutta\n",
    "Utsyo Chakraborty\n",
    "Uttaran Chatterjee\n",
    "Yash Gupta\"\"\".split(\"\\n\")"
   ]
  },
  {
   "cell_type": "code",
   "execution_count": 17,
   "id": "da636b75-0c1f-4b59-ab7a-2ff6546394e8",
   "metadata": {},
   "outputs": [
    {
     "data": {
      "text/plain": [
       "['Abhirup Sengupta',\n",
       " 'Aditya Negi',\n",
       " 'Adrija Saha',\n",
       " 'Aniruddhan Ganesaraman',\n",
       " 'Debepsita Mukherjee',\n",
       " 'Harsh Gupta',\n",
       " 'Kaulik Poddar',\n",
       " 'Mainak Manna',\n",
       " 'Pranav Krishna',\n",
       " 'Ramit Nandi',\n",
       " 'Rupayan Chattopadhyay',\n",
       " 'Saheli Datta',\n",
       " 'Sampurna Mondal',\n",
       " 'Samya Praharaj',\n",
       " 'Sandeepan Sarkar',\n",
       " 'Saransh Gupta',\n",
       " 'Shantanu Nayek',\n",
       " 'Shinde Rohan Pramod',\n",
       " 'Shrayan Roy',\n",
       " 'Snehashis De',\n",
       " 'Sourav Ghosh',\n",
       " 'Subhasis Sur',\n",
       " 'Sweata Majumder',\n",
       " 'Tiyasa Dutta',\n",
       " 'Utsyo Chakraborty',\n",
       " 'Uttaran Chatterjee',\n",
       " 'Yash Gupta']"
      ]
     },
     "execution_count": 17,
     "metadata": {},
     "output_type": "execute_result"
    }
   ],
   "source": [
    "names"
   ]
  },
  {
   "cell_type": "code",
   "execution_count": null,
   "id": "a0335c3f-928c-468c-a2ae-84e3b60983ec",
   "metadata": {},
   "outputs": [],
   "source": []
  }
 ],
 "metadata": {
  "kernelspec": {
   "display_name": "Python 3 (ipykernel)",
   "language": "python",
   "name": "python3"
  },
  "language_info": {
   "codemirror_mode": {
    "name": "ipython",
    "version": 3
   },
   "file_extension": ".py",
   "mimetype": "text/x-python",
   "name": "python",
   "nbconvert_exporter": "python",
   "pygments_lexer": "ipython3",
   "version": "3.11.4"
  }
 },
 "nbformat": 4,
 "nbformat_minor": 5
}
