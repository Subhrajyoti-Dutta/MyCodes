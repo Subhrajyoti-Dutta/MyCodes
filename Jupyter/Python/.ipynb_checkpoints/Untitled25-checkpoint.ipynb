{
  "nbformat": 4,
  "nbformat_minor": 0,
  "metadata": {
    "colab": {
      "provenance": []
    },
    "kernelspec": {
      "name": "python3",
      "display_name": "Python 3"
    },
    "language_info": {
      "name": "python"
    }
  },
  "cells": [
    {
      "cell_type": "code",
      "execution_count": 15,
      "metadata": {
        "id": "4ZdGijsN0iu5"
      },
      "outputs": [],
      "source": [
        "import pandas as pd\n",
        "import numpy as np\n",
        "import seaborn as sns\n",
        "from sklearn.decomposition import PCA, FastICA\n",
        "from sklearn.preprocessing import StandardScaler"
      ]
    },
    {
      "cell_type": "code",
      "source": [
        "data = pd.read_csv(\"s00.csv\", header=None)\n",
        "data.columns = ['Fp1', 'Fp2', 'F3', 'F4', 'F7', 'F8', 'T3', 'T4', 'C3', 'C4', 'T5', 'T6', 'P3', 'P4', 'O1', 'O2', 'Fz', 'Cz', 'Pz']\n",
        "# data[\"time\"] = np.arange(1,31001)/500"
      ],
      "metadata": {
        "id": "HhN_pHaYYbLD"
      },
      "execution_count": 10,
      "outputs": []
    },
    {
      "cell_type": "code",
      "source": [
        "scaler = StandardScaler(copy = False)\n",
        "data_scaled = scaler.fit_transform(data)\n",
        "data_scaled"
      ],
      "metadata": {
        "colab": {
          "base_uri": "https://localhost:8080/"
        },
        "id": "WoAkESGjbSs8",
        "outputId": "0e6f2b3f-2c18-465d-b064-04a1b9c51051"
      },
      "execution_count": 13,
      "outputs": [
        {
          "output_type": "execute_result",
          "data": {
            "text/plain": [
              "array([[ 0.28938566, -0.1964263 , -0.17710526, ...,  0.01256733,\n",
              "         0.22298125,  0.08267107],\n",
              "       [ 0.08678249, -0.24223824, -0.32516444, ..., -0.04522815,\n",
              "         0.38150271,  0.04630473],\n",
              "       [-0.14595076, -0.27443149, -0.47917349, ..., -0.09384835,\n",
              "         0.51828309, -0.00484341],\n",
              "       ...,\n",
              "       [ 0.0118656 ,  0.02428466,  0.01620583, ...,  0.00981517,\n",
              "         0.01903167,  0.00461776],\n",
              "       [ 0.0118656 ,  0.02428466,  0.01620583, ...,  0.00981517,\n",
              "         0.01903167,  0.00461776],\n",
              "       [ 0.0118656 ,  0.02428466,  0.01620583, ...,  0.00981517,\n",
              "         0.01903167,  0.00461776]])"
            ]
          },
          "metadata": {},
          "execution_count": 13
        }
      ]
    },
    {
      "cell_type": "code",
      "source": [
        "nums = np.arange(1,20)\n",
        "var_ratio = []\n",
        "for i in nums:\n",
        "  pca = PCA(n_components=i)\n",
        "  pca.fit(data_scaled)\n",
        "  var_ratio.append(np.sum(pca.explained_variance_ratio_))"
      ],
      "metadata": {
        "id": "7Mr6gJd3Ytem"
      },
      "execution_count": 18,
      "outputs": []
    },
    {
      "cell_type": "code",
      "source": [
        "sns.lineplot(x = nums, y = var_ratio)"
      ],
      "metadata": {
        "colab": {
          "base_uri": "https://localhost:8080/",
          "height": 447
        },
        "id": "Ehf9lTGCcWlx",
        "outputId": "52305703-796e-41a0-b88b-7d57cdf5730f"
      },
      "execution_count": 19,
      "outputs": [
        {
          "output_type": "execute_result",
          "data": {
            "text/plain": [
              "<Axes: >"
            ]
          },
          "metadata": {},
          "execution_count": 19
        },
        {
          "output_type": "display_data",
          "data": {
            "text/plain": [
              "<Figure size 640x480 with 1 Axes>"
            ],
            "image/png": "[encoded data removed]"
          },
          "metadata": {}
        }
      ]
    },
    {
      "cell_type": "code",
      "source": [
        "PCA(n_components=5).fit_transform(data)"
      ],
      "metadata": {
        "colab": {
          "base_uri": "https://localhost:8080/"
        },
        "id": "We1ncfTecnxJ",
        "outputId": "0e172219-0767-4bd4-aeea-ccd6a3b9ae2b"
      },
      "execution_count": 20,
      "outputs": [
        {
          "output_type": "execute_result",
          "data": {
            "text/plain": [
              "[0.519913809839344,\n",
              " 0.7174764506535428,\n",
              " 0.783636992829791,\n",
              " 0.8202016105569865,\n",
              " 0.8512220667056821,\n",
              " 0.8773667346981724,\n",
              " 0.8973338335995148,\n",
              " 0.9161066152383857,\n",
              " 0.9336304702482623,\n",
              " 0.9465576247976907,\n",
              " 0.9578074652833684,\n",
              " 0.9662254516490969,\n",
              " 0.9741999344903207,\n",
              " 0.9814783681159892,\n",
              " 0.9870323374977314,\n",
              " 0.9913575441258992,\n",
              " 0.9955646585810437,\n",
              " 0.9993748780932322,\n",
              " 1.0000000000000002]"
            ]
          },
          "metadata": {},
          "execution_count": 20
        }
      ]
    },
    {
      "cell_type": "code",
      "source": [],
      "metadata": {
        "id": "A1oRfyGUcxoU"
      },
      "execution_count": null,
      "outputs": []
    }
  ]
}